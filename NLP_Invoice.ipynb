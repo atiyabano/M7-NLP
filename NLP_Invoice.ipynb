{
 "cells": [
  {
   "cell_type": "code",
   "execution_count": 23,
   "id": "07cdb6d8-1966-46b0-a7d0-41de92da7ea0",
   "metadata": {},
   "outputs": [],
   "source": [
    "import re\n",
    "import spacy\n",
    "import pdfplumber"
   ]
  },
  {
   "cell_type": "code",
   "execution_count": 24,
   "id": "eea69065-9693-4677-a239-903f01c2527f",
   "metadata": {},
   "outputs": [
    {
     "name": "stdout",
     "output_type": "stream",
     "text": [
      "Requirement already satisfied: pdfplumber in c:\\users\\hp\\anaconda3\\lib\\site-packages (0.11.6)\n",
      "Requirement already satisfied: pdfminer.six==20250327 in c:\\users\\hp\\anaconda3\\lib\\site-packages (from pdfplumber) (20250327)\n",
      "Requirement already satisfied: Pillow>=9.1 in c:\\users\\hp\\anaconda3\\lib\\site-packages (from pdfplumber) (10.4.0)\n",
      "Requirement already satisfied: pypdfium2>=4.18.0 in c:\\users\\hp\\anaconda3\\lib\\site-packages (from pdfplumber) (4.30.1)\n",
      "Requirement already satisfied: charset-normalizer>=2.0.0 in c:\\users\\hp\\anaconda3\\lib\\site-packages (from pdfminer.six==20250327->pdfplumber) (3.3.2)\n",
      "Requirement already satisfied: cryptography>=36.0.0 in c:\\users\\hp\\anaconda3\\lib\\site-packages (from pdfminer.six==20250327->pdfplumber) (43.0.0)\n",
      "Requirement already satisfied: cffi>=1.12 in c:\\users\\hp\\anaconda3\\lib\\site-packages (from cryptography>=36.0.0->pdfminer.six==20250327->pdfplumber) (1.17.1)\n",
      "Requirement already satisfied: pycparser in c:\\users\\hp\\anaconda3\\lib\\site-packages (from cffi>=1.12->cryptography>=36.0.0->pdfminer.six==20250327->pdfplumber) (2.21)\n"
     ]
    }
   ],
   "source": [
    "!pip install pdfplumber"
   ]
  },
  {
   "cell_type": "code",
   "execution_count": 25,
   "id": "8b6fa7dd-abca-48d8-8f1b-f25770238cfe",
   "metadata": {},
   "outputs": [],
   "source": [
    "nlp=spacy.load(\"en_core_web_sm\")"
   ]
  },
  {
   "cell_type": "code",
   "execution_count": 32,
   "id": "f9eadbeb-1fc4-4f63-bda5-75fd19efe1f3",
   "metadata": {},
   "outputs": [
    {
     "name": "stdout",
     "output_type": "stream",
     "text": [
      "{'Company': None, 'Invoice date': '10-11-2024', 'Total Amount': '2', 'Pan': 'AAICB4842N'}\n"
     ]
    }
   ],
   "source": [
    "def extract_invoice_data(file_path):\n",
    "    with pdfplumber.open(file_path)as pdf:\n",
    "        text=\"\\n\".join([page.extract_text() for page in  pdf.pages if page.extract_text()])\n",
    "\n",
    "        x=nlp(text)\n",
    "        vendor=None\n",
    "        for ent in x.ents:\n",
    "            if ent.label ==\"ORG\":\n",
    "                vendor=ent.txt\n",
    "                break\n",
    "        date=re.search(r'(\\d{1,2}[/-]\\d{1,2}[\\-]\\d{2,4})',text)\n",
    "        in_date = date.group(0) if date else \"Not Found\"\n",
    "\n",
    "        amt=re.search(r'Total(?:Amount)?[:\\s]*\\$?([0-9,.]+)', text)\n",
    "        total=amt.group(1) if amt else \"Not Found\"\n",
    "\n",
    "        Pan=re.search(r'\\b[A-Z]{5}[0-9]{4}[A-Z]\\b', text)\n",
    "        PAN=Pan.group(0) if amt else \"Not Found\"\n",
    "\n",
    "        \n",
    "        return {\n",
    "                \"Company\":vendor,\n",
    "                \"Invoice date\": in_date,\n",
    "                \"Total Amount\": total,\n",
    "                \"Pan\":PAN\n",
    "        }\n",
    "file_path=\"inv.pdf\"\n",
    "invoice_info=extract_invoice_data(file_path)\n",
    "print(invoice_info)\n",
    "        "
   ]
  },
  {
   "cell_type": "code",
   "execution_count": null,
   "id": "3f3ac02c-dd47-4aa4-a15c-a23284708b73",
   "metadata": {},
   "outputs": [],
   "source": []
  }
 ],
 "metadata": {
  "kernelspec": {
   "display_name": "Python 3 (ipykernel)",
   "language": "python",
   "name": "python3"
  },
  "language_info": {
   "codemirror_mode": {
    "name": "ipython",
    "version": 3
   },
   "file_extension": ".py",
   "mimetype": "text/x-python",
   "name": "python",
   "nbconvert_exporter": "python",
   "pygments_lexer": "ipython3",
   "version": "3.12.7"
  }
 },
 "nbformat": 4,
 "nbformat_minor": 5
}
